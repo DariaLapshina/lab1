{
  "cells": [
    {
      "cell_type": "markdown",
      "metadata": {
        "id": "M-DGa20PaHnu"
      },
      "source": [
        "#Задача 1\n",
        "Написать функцию на вход которой подается строка, состоящая из латинских букв.\n",
        "Функция должна вернуть количество гласных букв (a, e, i, o, u) в этой строке. Написать тесты для кода"
      ]
    },
    {
      "cell_type": "code",
      "execution_count": 16,
      "metadata": {
        "id": "XvX8X_JJ6PCb"
      },
      "outputs": [
        {
          "name": "stdout",
          "output_type": "stream",
          "text": [
            "2\n",
            "5\n",
            "0\n"
          ]
        }
      ],
      "source": [
        "def count_vowels(s):\n",
        "    # Define vowels, considering both lowercase and uppercase\n",
        "    vowels = \"aeiouAEIOU\"\n",
        "    count = 0\n",
        "    # Iterate through the string to count vowels\n",
        "    for char in s:\n",
        "        if char in vowels:\n",
        "            count += 1\n",
        "    return count\n",
        "\n",
        "# Testing the function\n",
        "print(count_vowels(\"hello\"))  \n",
        "print(count_vowels(\"AEIOU\"))  \n",
        "print(count_vowels(\"xyz\"))    \n"
      ]
    },
    {
      "cell_type": "markdown",
      "metadata": {
        "id": "t2ClV_Y0bbr6"
      },
      "source": [
        "# Задача 2\n",
        "Написать функцию на вход, которой подается строка. Функция должна вернуть true, если\n",
        "каждый символ в строке встречается только 1 раз, иначе должна вернуть false. Написать тесты для кода"
      ]
    },
    {
      "cell_type": "code",
      "execution_count": 15,
      "metadata": {
        "id": "FppbECao6VIz"
      },
      "outputs": [
        {
          "name": "stdout",
          "output_type": "stream",
          "text": [
            "True\n",
            "False\n",
            "True\n"
          ]
        }
      ],
      "source": [
        "def unique_characters(s):\n",
        "    # Using a set to store unique characters\n",
        "    unique_chars = set()\n",
        "    # Iterate through the string\n",
        "    for char in s:\n",
        "        if char in unique_chars:\n",
        "            return False  \n",
        "        unique_chars.add(char)\n",
        "    return True  \n",
        "\n",
        "# Testing the function\n",
        "print(unique_characters(\"abcdef\"))  \n",
        "print(unique_characters(\"hello\"))   \n",
        "print(unique_characters(\"Python\"))  \n"
      ]
    },
    {
      "cell_type": "markdown",
      "metadata": {
        "id": "udRiIK1cdt6E"
      },
      "source": [
        "# Задача 3\n",
        "Написать функцию, которая принимает положительное число и возвращает количество\n",
        "бит равных 1 в этом числе. Написать тесты для кода"
      ]
    },
    {
      "cell_type": "code",
      "execution_count": 14,
      "metadata": {
        "id": "6tkfDJRz6dp_"
      },
      "outputs": [
        {
          "name": "stdout",
          "output_type": "stream",
          "text": [
            "2\n",
            "3\n",
            "2\n"
          ]
        }
      ],
      "source": [
        "def count_bits(n):\n",
        "    # Convert number to binary and count '1's\n",
        "    return bin(n).count('1')\n",
        "\n",
        "# Testing the function\n",
        "print(count_bits(5))  \n",
        "print(count_bits(7))  \n",
        "print(count_bits(9))  \n"
      ]
    },
    {
      "cell_type": "markdown",
      "metadata": {
        "id": "26dDUz-Ae17N"
      },
      "source": [
        "# Задача 4\n",
        "Написать функцию, которая принимает положительное число. Функция должна вернуть то,\n",
        "сколько раз необходимо перемножать цифры числа или результат перемножения, чтобы\n",
        "получилось число состоящее из одной цифры.\n",
        "Например, для входного числа:\n",
        "· 39 функция должна вернуть 3, так как 3*9=27 => 2*7=14 => 1*4=4\n",
        "· 4 функция должна вернуть 0, так как число уже состоит из одной цифры\n",
        "· 999 функция должна вернуть 4, так как 9*9*9=729 => 7*2*9=126 => 1*2*6=12 =>\n",
        "1*2=2. Написать тесты для кода"
      ]
    },
    {
      "cell_type": "code",
      "execution_count": 13,
      "metadata": {
        "id": "BH1A_Mgi6i4G"
      },
      "outputs": [
        {
          "name": "stdout",
          "output_type": "stream",
          "text": [
            "3\n",
            "4\n",
            "0\n"
          ]
        }
      ],
      "source": [
        "def magic(n):\n",
        "    count = 0\n",
        "    while n >= 10:  # Continue while n has more than 1 digit\n",
        "        result = 1\n",
        "        for digit in str(n):\n",
        "            result *= int(digit)\n",
        "        n = result\n",
        "        count += 1\n",
        "    return count\n",
        "\n",
        "# Test cases\n",
        "print(magic(39))  \n",
        "print(magic(999)) \n",
        "print(magic(4))   \n"
      ]
    },
    {
      "cell_type": "markdown",
      "metadata": {
        "id": "0nS-kIa8g8vd"
      },
      "source": [
        "# Задача 5\n",
        "Написать функцию, которая принимает два целочисленных вектора одинаковой длины и\n",
        "возвращает среднеквадратическое отклонение двух векторов. Написать тесты для кода"
      ]
    },
    {
      "cell_type": "code",
      "execution_count": 12,
      "metadata": {
        "id": "8iphx4LM6xbx"
      },
      "outputs": [
        {
          "name": "stdout",
          "output_type": "stream",
          "text": [
            "0.0\n",
            "1.0\n",
            "0.6666666666666666\n"
          ]
        }
      ],
      "source": [
        "def mse(pred, true):\n",
        "    error_sum = 0\n",
        "    for p, t in zip(pred, true):\n",
        "        error_sum += (p - t) ** 2\n",
        "    return error_sum / len(pred)\n",
        "\n",
        "# Test cases\n",
        "print(mse([1, 2, 3], [1, 2, 3]))  \n",
        "print(mse([2, 3, 4], [1, 2, 3]))  \n",
        "print(mse([5, 6, 7], [5, 7, 6]))  \n"
      ]
    },
    {
      "cell_type": "markdown",
      "metadata": {
        "id": "vpIPKL439zkw"
      },
      "source": [
        "# Задача 6\n",
        "Написать функцию, принимающая целое положительное число. Функция должна вернуть\n",
        "строку вида “(n1**p1)(n2**p2)…(nk**pk)” представляющая разложение числа на простые\n",
        "множители (если pi == 1, то выводить только ni).\n",
        "Например, для числа 86240 функция должна вернуть “(2**5)(5)(7**2)(11)”. Написать тесты для кода"
      ]
    },
    {
      "cell_type": "code",
      "execution_count": 11,
      "metadata": {
        "id": "pFebmcZk94Jw"
      },
      "outputs": [
        {
          "name": "stdout",
          "output_type": "stream",
          "text": [
            "(2^5)(5)(7^2)(11)\n",
            "(2^2)(3)(5)\n",
            "(17)\n"
          ]
        }
      ],
      "source": [
        "def prime_factors(n):\n",
        "    factors = []\n",
        "    divisor = 2\n",
        "    while n > 1:\n",
        "        count = 0\n",
        "        while n % divisor == 0:\n",
        "            n //= divisor\n",
        "            count += 1\n",
        "        if count > 0:\n",
        "            if count == 1:\n",
        "                factors.append(f\"({divisor})\")\n",
        "            else:\n",
        "                factors.append(f\"({divisor}^{count})\")\n",
        "        divisor += 1\n",
        "    return ''.join(factors)\n",
        "\n",
        "# Test cases\n",
        "print(prime_factors(86240))  \n",
        "print(prime_factors(60))     \n",
        "print(prime_factors(17))     \n"
      ]
    },
    {
      "cell_type": "markdown",
      "metadata": {
        "id": "ps2s0BudX7A2"
      },
      "source": [
        "# Задача 7\n",
        "Написать функцию, принимающая целое число n, задающее количество кубиков. Функция\n",
        "должна определить, можно ли из данного кол-ва кубиков построить пирамиду, то есть\n",
        "можно ли представить число n как 1^2+2^2+3^2+…+k^2. Если можно, то функция должна\n",
        "вернуть k, иначе строку “It is impossible”. Написать тесты для кода"
      ]
    },
    {
      "cell_type": "code",
      "execution_count": 10,
      "metadata": {
        "id": "3YPjEXxhX_YT"
      },
      "outputs": [
        {
          "name": "stdout",
          "output_type": "stream",
          "text": [
            "3\n",
            "4\n",
            "2\n"
          ]
        }
      ],
      "source": [
        "def pyramid(number):\n",
        "    k = 0\n",
        "    total_cubes = 0\n",
        "    while total_cubes < number:\n",
        "        k += 1\n",
        "        total_cubes += k ** 2\n",
        "    return k if total_cubes == number else \"It is impossible\"\n",
        "\n",
        "# Test cases\n",
        "print(pyramid(14))  \n",
        "print(pyramid(30))  \n",
        "print(pyramid(5))   \n"
      ]
    },
    {
      "cell_type": "markdown",
      "metadata": {
        "id": "KeKgmIdAQMEJ"
      },
      "source": [
        "# Задача 8\n",
        "Функция принимает на вход положительное число и определяет является ли оно сбалансированным, т.е. сумма цифр до средних равна сумме цифр после. Средними в случае нечетного числа цифр считать одну цифру, в случае четного - две средних. Написать тесты для кода"
      ]
    },
    {
      "cell_type": "code",
      "execution_count": 9,
      "metadata": {
        "id": "gMAAqtqlQrZt"
      },
      "outputs": [
        {
          "name": "stdout",
          "output_type": "stream",
          "text": [
            "True\n",
            "True\n",
            "False\n"
          ]
        }
      ],
      "source": [
        "def is_balanced(n):\n",
        "    s = str(n)\n",
        "    length = len(s)\n",
        "    mid = length // 2\n",
        "    if length % 2 == 0:  # Even length\n",
        "        left_sum = sum(int(digit) for digit in s[:mid])\n",
        "        right_sum = sum(int(digit) for digit in s[mid:])\n",
        "    else:  # Odd length\n",
        "        left_sum = sum(int(digit) for digit in s[:mid])\n",
        "        right_sum = sum(int(digit) for digit in s[mid+1:])\n",
        "    return left_sum == right_sum\n",
        "\n",
        "# Test cases\n",
        "print(is_balanced(123321))  \n",
        "print(is_balanced(12321))   \n",
        "print(is_balanced(1234))    \n"
      ]
    },
    {
      "cell_type": "code",
      "execution_count": null,
      "metadata": {},
      "outputs": [],
      "source": []
    }
  ],
  "metadata": {
    "colab": {
      "provenance": []
    },
    "kernelspec": {
      "display_name": "Python 3",
      "name": "python3"
    },
    "language_info": {
      "codemirror_mode": {
        "name": "ipython",
        "version": 3
      },
      "file_extension": ".py",
      "mimetype": "text/x-python",
      "name": "python",
      "nbconvert_exporter": "python",
      "pygments_lexer": "ipython3",
      "version": "3.12.4"
    }
  },
  "nbformat": 4,
  "nbformat_minor": 0
}
